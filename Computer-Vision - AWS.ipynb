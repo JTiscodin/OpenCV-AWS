{
 "cells": [
  {
   "cell_type": "code",
   "execution_count": 155,
   "id": "d620cd52",
   "metadata": {},
   "outputs": [],
   "source": [
    "import cv2"
   ]
  },
  {
   "cell_type": "code",
   "execution_count": 171,
   "id": "38ff2ed7",
   "metadata": {},
   "outputs": [],
   "source": [
    "cap = cv2.VideoCapture(0)"
   ]
  },
  {
   "cell_type": "code",
   "execution_count": 157,
   "id": "268bb2c2",
   "metadata": {},
   "outputs": [],
   "source": [
    "status, photo = cap.read()"
   ]
  },
  {
   "cell_type": "code",
   "execution_count": 158,
   "id": "c70a0371",
   "metadata": {},
   "outputs": [],
   "source": [
    "cv2.imshow(\"my photo\", photo)\n",
    "cv2.waitKey()\n",
    "cv2.destroyAllWindows()"
   ]
  },
  {
   "cell_type": "code",
   "execution_count": 159,
   "id": "5c532f75",
   "metadata": {},
   "outputs": [],
   "source": [
    "from cvzone.HandTrackingModule import HandDetector"
   ]
  },
  {
   "cell_type": "code",
   "execution_count": 160,
   "id": "7ccf8f47",
   "metadata": {},
   "outputs": [],
   "source": [
    "detector =  HandDetector()"
   ]
  },
  {
   "cell_type": "code",
   "execution_count": 161,
   "id": "ca5fe03b",
   "metadata": {},
   "outputs": [
    {
     "name": "stdout",
     "output_type": "stream",
     "text": [
      "[0, 1, 1, 0, 0]\n"
     ]
    }
   ],
   "source": [
    "myhand = detector.findHands(photo)\n",
    "mylmlist = myhand[0][0]\n",
    "myfinger = detector.fingersUp(mylmlist)\n",
    "print(myfinger)"
   ]
  },
  {
   "cell_type": "code",
   "execution_count": 162,
   "id": "a68098cc",
   "metadata": {},
   "outputs": [],
   "source": [
    "import os\n",
    "import subprocess"
   ]
  },
  {
   "cell_type": "code",
   "execution_count": 163,
   "id": "057cbd7a",
   "metadata": {},
   "outputs": [],
   "source": [
    "ids = []"
   ]
  },
  {
   "cell_type": "code",
   "execution_count": 164,
   "id": "e4e353d9",
   "metadata": {},
   "outputs": [],
   "source": [
    "import boto3"
   ]
  },
  {
   "cell_type": "code",
   "execution_count": 168,
   "id": "46cb7659",
   "metadata": {},
   "outputs": [],
   "source": [
    "def launchOs():\n",
    "    myec2 = boto3.resource(\"ec2\", region_name = \"ap-south-1\" ,  aws_access_key_id = \"\", aws_secret_access_key = \"\" )\n",
    "    instance_id = myec2.create_instances(InstanceType = \"t2.micro\", ImageId = \"ami-0e670eb768a5fc3d4\", MinCount = 1, MaxCount = 1)\n",
    "    ids.append(instance_id)"
   ]
  },
  {
   "cell_type": "code",
   "execution_count": 169,
   "id": "4f71fe38",
   "metadata": {},
   "outputs": [],
   "source": [
    "if myfinger == [1,1,1,1,1]:\n",
    "    launchOs()\n",
    "    launchOs()\n",
    "    launchOs()\n",
    "    launchOs()\n",
    "    launchOs()\n",
    "elif myfinger == [0, 1, 1, 0, 0]:\n",
    "    launchOs()\n",
    "    launchOs()\n",
    "else:\n",
    "    print(\"idk\")"
   ]
  },
  {
   "cell_type": "code",
   "execution_count": 170,
   "id": "3a044fa6",
   "metadata": {},
   "outputs": [
    {
     "name": "stdout",
     "output_type": "stream",
     "text": [
      "[[ec2.Instance(id='i-0f491bfe4d14b256b')], [ec2.Instance(id='i-0a75fabf1fc40fd37')]]\n"
     ]
    }
   ],
   "source": [
    "print(ids)"
   ]
  },
  {
   "cell_type": "code",
   "execution_count": null,
   "id": "f25cdb5a",
   "metadata": {},
   "outputs": [],
   "source": []
  }
 ],
 "metadata": {
  "kernelspec": {
   "display_name": "Python 3 (ipykernel)",
   "language": "python",
   "name": "python3"
  },
  "language_info": {
   "codemirror_mode": {
    "name": "ipython",
    "version": 3
   },
   "file_extension": ".py",
   "mimetype": "text/x-python",
   "name": "python",
   "nbconvert_exporter": "python",
   "pygments_lexer": "ipython3",
   "version": "3.11.5"
  }
 },
 "nbformat": 4,
 "nbformat_minor": 5
}
